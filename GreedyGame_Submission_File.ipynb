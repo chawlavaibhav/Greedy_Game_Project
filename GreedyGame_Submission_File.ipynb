{
 "cells": [
  {
   "cell_type": "markdown",
   "metadata": {
    "collapsed": true
   },
   "source": [
    "# Introduction"
   ]
  },
  {
   "cell_type": "markdown",
   "metadata": {},
   "source": [
    "The given dataset contains information about various attributes of a gaming session. A gaimng session happens when a user plays a game on a device(identified by \"ai5\" field). A typical session starts with a \"ggstart\" event and ends with a \"ggstop\" event. There can be multiple \"ggstart\" and \"ggstop\" events in a particular session. "
   ]
  },
  {
   "cell_type": "code",
   "execution_count": 1,
   "metadata": {
    "collapsed": false
   },
   "outputs": [],
   "source": [
    "#Lets do some imports\n",
    "import collections, numpy\n",
    "import pandas as pd\n",
    "import numpy as np\n",
    "from pandas import DataFrame\n",
    "from datetime import datetime"
   ]
  },
  {
   "cell_type": "code",
   "execution_count": 2,
   "metadata": {
    "collapsed": true
   },
   "outputs": [],
   "source": [
    "#variables for session and time calculations\n",
    "#Variable for total sessions\n",
    "total_sessions = 0\n",
    "#Variable for valid sessions\n",
    "valid_sessions= 0\n",
    "# variable to count the total run time of valid sessions\n",
    "total_validtime =0"
   ]
  },
  {
   "cell_type": "markdown",
   "metadata": {},
   "source": [
    "## Parsing Data into python using JSON"
   ]
  },
  {
   "cell_type": "code",
   "execution_count": 3,
   "metadata": {
    "collapsed": false
   },
   "outputs": [],
   "source": [
    "# list to store the read lines\n",
    "list =[]\n",
    "import json\n",
    "with open('ggevent.log') as f:\n",
    "    #Reading lines from .log file.\n",
    "    for line in f.readlines()[1:]:\n",
    "        dict_of_line = json.loads(line)\n",
    "        #Initiating a dictionary to store information from read lines\n",
    "        data={}\n",
    "        data[\"uid\"] = str(dict_of_line[\"headers\"][\"ai5\"])\n",
    "        data[\"event\"] =str(dict_of_line[\"post\"][\"event\"])\n",
    "        data[\"time\"]=  datetime.strptime(dict_of_line[\"bottle\"][\"timestamp\"], '%Y-%m-%d %H:%M:%S.%f')\n",
    "        #appending dictionaries into a list\n",
    "        list.append(data)  "
   ]
  },
  {
   "cell_type": "code",
   "execution_count": 5,
   "metadata": {
    "collapsed": false
   },
   "outputs": [],
   "source": [
    "# creating a dataframe using the list above\n",
    "df = DataFrame(list)"
   ]
  },
  {
   "cell_type": "code",
   "execution_count": 6,
   "metadata": {
    "collapsed": false
   },
   "outputs": [
    {
     "data": {
      "text/html": [
       "<div>\n",
       "<table border=\"1\" class=\"dataframe\">\n",
       "  <thead>\n",
       "    <tr style=\"text-align: right;\">\n",
       "      <th></th>\n",
       "      <th>event</th>\n",
       "      <th>time</th>\n",
       "      <th>uid</th>\n",
       "    </tr>\n",
       "  </thead>\n",
       "  <tbody>\n",
       "    <tr>\n",
       "      <th>0</th>\n",
       "      <td>ggstart</td>\n",
       "      <td>2016-05-09 02:00:00.033775</td>\n",
       "      <td>335644267c1d5f04eaea7bc6f51b1861</td>\n",
       "    </tr>\n",
       "    <tr>\n",
       "      <th>1</th>\n",
       "      <td>ggstop</td>\n",
       "      <td>2016-05-09 02:00:00.036721</td>\n",
       "      <td>ca3071aad676bc963795a2b09635cdf0</td>\n",
       "    </tr>\n",
       "    <tr>\n",
       "      <th>2</th>\n",
       "      <td>ggstop</td>\n",
       "      <td>2016-05-09 02:00:00.041006</td>\n",
       "      <td>17412dec7d3d02c9b0b1c3d1c3571c5c</td>\n",
       "    </tr>\n",
       "    <tr>\n",
       "      <th>3</th>\n",
       "      <td>ggstart</td>\n",
       "      <td>2016-05-09 02:00:00.074181</td>\n",
       "      <td>f81167c854f1a0c86cab6188f9995824</td>\n",
       "    </tr>\n",
       "    <tr>\n",
       "      <th>4</th>\n",
       "      <td>ggstart</td>\n",
       "      <td>2016-05-09 02:00:00.084916</td>\n",
       "      <td>17412dec7d3d02c9b0b1c3d1c3571c5c</td>\n",
       "    </tr>\n",
       "  </tbody>\n",
       "</table>\n",
       "</div>"
      ],
      "text/plain": [
       "     event                       time                               uid\n",
       "0  ggstart 2016-05-09 02:00:00.033775  335644267c1d5f04eaea7bc6f51b1861\n",
       "1   ggstop 2016-05-09 02:00:00.036721  ca3071aad676bc963795a2b09635cdf0\n",
       "2   ggstop 2016-05-09 02:00:00.041006  17412dec7d3d02c9b0b1c3d1c3571c5c\n",
       "3  ggstart 2016-05-09 02:00:00.074181  f81167c854f1a0c86cab6188f9995824\n",
       "4  ggstart 2016-05-09 02:00:00.084916  17412dec7d3d02c9b0b1c3d1c3571c5c"
      ]
     },
     "execution_count": 6,
     "metadata": {},
     "output_type": "execute_result"
    }
   ],
   "source": [
    "#dataframe preview\n",
    "df.head()"
   ]
  },
  {
   "cell_type": "code",
   "execution_count": 7,
   "metadata": {
    "collapsed": false
   },
   "outputs": [],
   "source": [
    "# creating a list of unique user ids\n",
    "unique = df[\"uid\"].unique()"
   ]
  },
  {
   "cell_type": "markdown",
   "metadata": {},
   "source": [
    "## Creating a list of dataframes grouped by user ids"
   ]
  },
  {
   "cell_type": "code",
   "execution_count": 9,
   "metadata": {
    "collapsed": false
   },
   "outputs": [],
   "source": [
    "#creating a list of dataframes by user ids\n",
    "data =[]\n",
    "#for every unique user id in dataset a dataframe is stored in data list\n",
    "for alpha in unique:\n",
    "    data.append(df[df[\"uid\"] ==alpha])\n",
    "    "
   ]
  },
  {
   "cell_type": "markdown",
   "metadata": {},
   "source": [
    "Since, data is susceptible to losses, avoiding those user ids that have only sinlge event in the dataset i.e. either ony \"ggstart\" or \"ggstop\". It is difficult to track run time for such sessions."
   ]
  },
  {
   "cell_type": "code",
   "execution_count": 10,
   "metadata": {
    "collapsed": false
   },
   "outputs": [],
   "source": [
    "#keeping only those dataframes, having more than one event i.e. atleast one session \n",
    "data =[i for i in data if len(i)>1]"
   ]
  },
  {
   "cell_type": "code",
   "execution_count": 11,
   "metadata": {
    "collapsed": false
   },
   "outputs": [
    {
     "data": {
      "text/plain": [
       "15237"
      ]
     },
     "execution_count": 11,
     "metadata": {},
     "output_type": "execute_result"
    }
   ],
   "source": [
    "#checking the length of list\n",
    "len(data)"
   ]
  },
  {
   "cell_type": "code",
   "execution_count": 12,
   "metadata": {
    "collapsed": false
   },
   "outputs": [
    {
     "data": {
      "text/html": [
       "<div>\n",
       "<table border=\"1\" class=\"dataframe\">\n",
       "  <thead>\n",
       "    <tr style=\"text-align: right;\">\n",
       "      <th></th>\n",
       "      <th>event</th>\n",
       "      <th>time</th>\n",
       "      <th>uid</th>\n",
       "    </tr>\n",
       "  </thead>\n",
       "  <tbody>\n",
       "    <tr>\n",
       "      <th>31</th>\n",
       "      <td>ggstop</td>\n",
       "      <td>2016-05-09 02:00:00.946466</td>\n",
       "      <td>fdf56abdb1758fc523e52f4c9bb05803</td>\n",
       "    </tr>\n",
       "    <tr>\n",
       "      <th>46</th>\n",
       "      <td>ggstart</td>\n",
       "      <td>2016-05-09 02:00:01.583882</td>\n",
       "      <td>fdf56abdb1758fc523e52f4c9bb05803</td>\n",
       "    </tr>\n",
       "    <tr>\n",
       "      <th>3633</th>\n",
       "      <td>ggstop</td>\n",
       "      <td>2016-05-09 02:01:37.097355</td>\n",
       "      <td>fdf56abdb1758fc523e52f4c9bb05803</td>\n",
       "    </tr>\n",
       "    <tr>\n",
       "      <th>3667</th>\n",
       "      <td>ggstart</td>\n",
       "      <td>2016-05-09 02:01:37.852882</td>\n",
       "      <td>fdf56abdb1758fc523e52f4c9bb05803</td>\n",
       "    </tr>\n",
       "    <tr>\n",
       "      <th>7384</th>\n",
       "      <td>ggstop</td>\n",
       "      <td>2016-05-09 02:03:10.706513</td>\n",
       "      <td>fdf56abdb1758fc523e52f4c9bb05803</td>\n",
       "    </tr>\n",
       "    <tr>\n",
       "      <th>7419</th>\n",
       "      <td>ggstart</td>\n",
       "      <td>2016-05-09 02:03:11.550855</td>\n",
       "      <td>fdf56abdb1758fc523e52f4c9bb05803</td>\n",
       "    </tr>\n",
       "    <tr>\n",
       "      <th>10820</th>\n",
       "      <td>ggstart</td>\n",
       "      <td>2016-05-09 02:04:33.939888</td>\n",
       "      <td>fdf56abdb1758fc523e52f4c9bb05803</td>\n",
       "    </tr>\n",
       "    <tr>\n",
       "      <th>10871</th>\n",
       "      <td>ggstop</td>\n",
       "      <td>2016-05-09 02:04:35.203347</td>\n",
       "      <td>fdf56abdb1758fc523e52f4c9bb05803</td>\n",
       "    </tr>\n",
       "    <tr>\n",
       "      <th>16331</th>\n",
       "      <td>ggstop</td>\n",
       "      <td>2016-05-09 02:06:49.597796</td>\n",
       "      <td>fdf56abdb1758fc523e52f4c9bb05803</td>\n",
       "    </tr>\n",
       "    <tr>\n",
       "      <th>16378</th>\n",
       "      <td>ggstart</td>\n",
       "      <td>2016-05-09 02:06:50.754033</td>\n",
       "      <td>fdf56abdb1758fc523e52f4c9bb05803</td>\n",
       "    </tr>\n",
       "    <tr>\n",
       "      <th>16718</th>\n",
       "      <td>ggstop</td>\n",
       "      <td>2016-05-09 02:06:59.606014</td>\n",
       "      <td>fdf56abdb1758fc523e52f4c9bb05803</td>\n",
       "    </tr>\n",
       "  </tbody>\n",
       "</table>\n",
       "</div>"
      ],
      "text/plain": [
       "         event                       time                               uid\n",
       "31      ggstop 2016-05-09 02:00:00.946466  fdf56abdb1758fc523e52f4c9bb05803\n",
       "46     ggstart 2016-05-09 02:00:01.583882  fdf56abdb1758fc523e52f4c9bb05803\n",
       "3633    ggstop 2016-05-09 02:01:37.097355  fdf56abdb1758fc523e52f4c9bb05803\n",
       "3667   ggstart 2016-05-09 02:01:37.852882  fdf56abdb1758fc523e52f4c9bb05803\n",
       "7384    ggstop 2016-05-09 02:03:10.706513  fdf56abdb1758fc523e52f4c9bb05803\n",
       "7419   ggstart 2016-05-09 02:03:11.550855  fdf56abdb1758fc523e52f4c9bb05803\n",
       "10820  ggstart 2016-05-09 02:04:33.939888  fdf56abdb1758fc523e52f4c9bb05803\n",
       "10871   ggstop 2016-05-09 02:04:35.203347  fdf56abdb1758fc523e52f4c9bb05803\n",
       "16331   ggstop 2016-05-09 02:06:49.597796  fdf56abdb1758fc523e52f4c9bb05803\n",
       "16378  ggstart 2016-05-09 02:06:50.754033  fdf56abdb1758fc523e52f4c9bb05803\n",
       "16718   ggstop 2016-05-09 02:06:59.606014  fdf56abdb1758fc523e52f4c9bb05803"
      ]
     },
     "execution_count": 12,
     "metadata": {},
     "output_type": "execute_result"
    }
   ],
   "source": [
    "# A sample output from data\n",
    "data[21]"
   ]
  },
  {
   "cell_type": "markdown",
   "metadata": {},
   "source": [
    "Adding more columns to the dataframes. \"Difference\" column is meant to calculate time difference between \"ggstart\"  and \"ggstop\" events. Since, any event can occour first, to determine the run time of a session \"ggstart\" should preecede \"ggstop\" while calculating difference. Thus, \"eve\" column is used to assign 1 as value to \"ggstart\" event and 0 as value to \"ggstop\" event. The difference betwwen rows of \"eve\" corresponding to time difference will help to determine whether \"ggstart\" occoured first or \"ggstop\" or events repeated themseves."
   ]
  },
  {
   "cell_type": "code",
   "execution_count": 15,
   "metadata": {
    "collapsed": true
   },
   "outputs": [],
   "source": [
    "#Function defind to create \"eve\" column\n",
    "#Returns 1 if event is \"ggstart\" otherwise returns 0\n",
    "def event_decider(doo):\n",
    "    event = doo\n",
    "    if event == \"ggstart\":\n",
    "        return 0\n",
    "    else:\n",
    "        return 1"
   ]
  },
  {
   "cell_type": "code",
   "execution_count": 16,
   "metadata": {
    "collapsed": false
   },
   "outputs": [],
   "source": [
    "# Setting warning optin to None\n",
    "pd.set_option('mode.chained_assignment',None)\n",
    "#for every dataframe in data adding two more columns ,difference and eve\n",
    "for row in data:\n",
    "    #difference column is differnce of consecutive time cells.\n",
    "    row[\"difference\"] = (row[\"time\"].diff(1)).dt.total_seconds().fillna(0)\n",
    "    # eve column stores a value(1) if event is \"ggstart\" and (0) if event is \"ggstop\".\n",
    "    row[\"eve\"] = row[\"event\"].apply(event_decider)"
   ]
  },
  {
   "cell_type": "markdown",
   "metadata": {},
   "source": [
    "# Instructions "
   ]
  },
  {
   "cell_type": "raw",
   "metadata": {},
   "source": [
    "1.  If there is a time difference of more than 30 secs between a GGSTOP and GGSTART,they are considered to be different sessions.\n",
    "2.  If a session is more than 60 seconds long, it is classified as a valid session.\n",
    "3.  If a session is less than 1 second, it should be ignored.\n",
    "4.  Incase of multiple GGSTART and GGSTOP calls, the exact time of the session shouldbe taken for establishing session validity     (not the difference between the first GGSTARTand the last GGSTOP call)"
   ]
  },
  {
   "cell_type": "markdown",
   "metadata": {},
   "source": [
    "# Solution function"
   ]
  },
  {
   "cell_type": "markdown",
   "metadata": {},
   "source": [
    "From the data list, each dataframe calls event_decider function that calculates total sessions, valid sessions and total runtime for a particular user id. The sum of which gives overall value of these variables for the given dataset.\n",
    "The flow of logic in function is as follows:\n",
    "\n",
    "If eve_difference =1, \"ggstart\" comes before \"ggstop\", thus if the time difference corresponding to it is greater than 60 seconds, it will be counted as valid session and time will be added.\n",
    "\n",
    "If eve_difference = -1, \"ggstop\" occurs first.The session is over if corresponding time difference>  30seconds. The time difference is not added to run time.\n",
    "\n",
    "Eve_difference =0, reflects that there is some data loss in between.A session has been missed. For example, if two \"ggstop\" occurs consecutively,a \"ggstart\" event should be there in between them. I have assumed that the three events should be equally spaced in time, thus half of time difference is added to run-time and valid session count is also increased by 1."
   ]
  },
  {
   "cell_type": "code",
   "execution_count": 17,
   "metadata": {
    "collapsed": false
   },
   "outputs": [],
   "source": [
    "# Function to calculate sessions and session time\n",
    "def event_decider(frame):\n",
    "    ts = 0\n",
    "    vs = 0\n",
    "    total_time = 0\n",
    "    # using global variables defined above\n",
    "    #Creating \"eve_difference\" column as difference of consecutive \"eve\" rows\n",
    "    frame[\"eve_difference\"] = (frame[\"eve\"].diff(1)).fillna(\"Nan\")\n",
    "    #iterating each row of database\n",
    "    for index, row in frame.iterrows():\n",
    "        # applying logic- if successive event is \"ggstop\" and predecessive  event is \"ggstart\"\n",
    "        if row[\"eve_difference\"] ==1: \n",
    "            # checking if time difference b/w the two events if greater than 1 second\n",
    "            if row[\"difference\"]>1:\n",
    "                ts +=1\n",
    "                #if time difference is greater than 60 seconds, a valid session\n",
    "                if row[\"difference\"]> 60:\n",
    "                    vs+=1\n",
    "                    total_time +=row[\"difference\"]\n",
    "        # applying logic- if successive event is \"ggstart\" and predecessive  event is \"ggstop\"            \n",
    "        if row[\"eve_difference\"] ==-1:\n",
    "            if row[\"difference\"] >30:\n",
    "                ts+=1\n",
    "                vs+=1\n",
    "        # applying logic- if consecutive events are same       \n",
    "        if row[\"eve_difference\"] ==0:\n",
    "            if row[\"difference\"]>1:\n",
    "                if row[\"difference\"]< 30:\n",
    "                    ts+=1\n",
    "                if row[\"difference\"]>120:\n",
    "                    ts+=1   \n",
    "                    vs+=1\n",
    "                    # Adding half of time difference, assuming one seesion occured b/w the two events.\n",
    "                    total_time +=(row[\"difference\"]/2)\n",
    "            else:\n",
    "                pass        \n",
    "    return ts,vs,total_time     \n",
    "  "
   ]
  },
  {
   "cell_type": "code",
   "execution_count": 18,
   "metadata": {
    "collapsed": false
   },
   "outputs": [],
   "source": [
    "# Iterating over each element of list and applying function to it to the return value of parametersfor each user id.\n",
    "for row in data:\n",
    "    (ts,vs,total_time) = event_decider(row)\n",
    "    #Calculating final values of parameter for complete dataset\n",
    "    total_sessions  += ts \n",
    "    valid_sessions  += vs\n",
    "    total_validtime+=total_time\n",
    "    "
   ]
  },
  {
   "cell_type": "code",
   "execution_count": 19,
   "metadata": {
    "collapsed": false
   },
   "outputs": [
    {
     "name": "stdout",
     "output_type": "stream",
     "text": [
      "48783 80928 7311456.24877\n"
     ]
    }
   ],
   "source": [
    "print valid_sessions,total_sessions,total_validtime"
   ]
  },
  {
   "cell_type": "markdown",
   "metadata": {},
   "source": [
    "# Reflections"
   ]
  },
  {
   "cell_type": "markdown",
   "metadata": {},
   "source": [
    "The dataset contains information about game sessions. Out of the given parameters, \"event\", \"timeStamp\", \"ts\" and \"ai5\" were used to solve this problem. The data was susceptible to losses and thus, there were cases where an user id had only single event in the complete data set. Those user ids were not used in computation. Consecutive \"ggstart\" and \"ggstop\" events were tackled with an assumption that an event should be there in between them and the three being equally spaced in time should increase the run time by time_difference/2 and valid sessions count by 1.To scale the dataset by 100 times, SQL can be employed. The data can be stored in database and used to calculate the required parameters. \n",
    " "
   ]
  },
  {
   "cell_type": "raw",
   "metadata": {
    "collapsed": true
   },
   "source": [
    "Number of valid sessions  = 48783\n",
    "Valid run time = 7311456.248 seconds\n",
    "Total number of sessions = 80928"
   ]
  }
 ],
 "metadata": {
  "anaconda-cloud": {},
  "kernelspec": {
   "display_name": "Python [Root]",
   "language": "python",
   "name": "Python [Root]"
  },
  "language_info": {
   "codemirror_mode": {
    "name": "ipython",
    "version": 2
   },
   "file_extension": ".py",
   "mimetype": "text/x-python",
   "name": "python",
   "nbconvert_exporter": "python",
   "pygments_lexer": "ipython2",
   "version": "2.7.12"
  }
 },
 "nbformat": 4,
 "nbformat_minor": 0
}
